{
 "cells": [
  {
   "cell_type": "markdown",
   "metadata": {},
   "source": [
    "# Test de chi-cuadrado"
   ]
  },
  {
   "cell_type": "markdown",
   "metadata": {},
   "source": [
    "El método Chi-cuadrado mide la discrepancia entre una distribución observada y otra teórica, indicando en qué medida las diferencias existentes entre ambas, si existen, se deben al azar. El método sirve para evaluar la prueba de hipótesis y refutar o no la hipótesis nula $H_0$. El test para comparar una distribución observada con una teórica se calcula como:\n",
    "\n",
    "$\\chi^2=\\sum_i\\frac{(obs_i-teo_i)^2}{teo_i}$"
   ]
  },
  {
   "cell_type": "code",
   "execution_count": 1,
   "metadata": {},
   "outputs": [],
   "source": [
    "import numpy as np\n",
    "import matplotlib.pyplot as plt\n",
    "import scipy.stats as st\n",
    "from IPython.display import Image"
   ]
  },
  {
   "cell_type": "markdown",
   "metadata": {},
   "source": [
    "Simulo $t=100$ observaciones de la V.A. binomial $\\mathcal{B}(n=10,p=0.4)$, calculo su frecuencia y la correspondiente distribución teórica."
   ]
  },
  {
   "cell_type": "code",
   "execution_count": 2,
   "metadata": {},
   "outputs": [],
   "source": [
    "t = 100\n",
    "n = 10\n",
    "p = 0.4\n",
    "y = np.arange(n+1)\n",
    "fr_n = np.zeros(n+1)\n",
    "obs = np.random.binomial(n, p, t)\n",
    "x,fr = np.unique(obs,return_counts=True)\n",
    "fr_n[x]= fr/t\n",
    "\n",
    "teo = st.binom.pmf(y,n,p)"
   ]
  },
  {
   "cell_type": "code",
   "execution_count": 3,
   "metadata": {},
   "outputs": [
    {
     "data": {
      "image/png": "[encoded data removed]",
      "text/plain": [
       "<Figure size 432x288 with 1 Axes>"
      ]
     },
     "metadata": {
      "needs_background": "light"
     },
     "output_type": "display_data"
    }
   ],
   "source": [
    "plt.bar(y,fr_n, label='Observada')\n",
    "plt.bar(y,teo,width=0.2,color='brown', label='Teórica')\n",
    "plt.xlabel('x')\n",
    "plt.ylabel('Frecuencia normalizada')\n",
    "plt.legend()\n",
    "plt.show()"
   ]
  },
  {
   "cell_type": "markdown",
   "metadata": {},
   "source": [
    "Calculo el estadístico $\\chi^2$"
   ]
  },
  {
   "cell_type": "code",
   "execution_count": 4,
   "metadata": {},
   "outputs": [
    {
     "name": "stdout",
     "output_type": "stream",
     "text": [
      "chi cuadrado vale: 10.598284851730268\n"
     ]
    }
   ],
   "source": [
    "chi2 = t*np.sum((fr_n-teo)**2/teo)\n",
    "print('chi cuadrado vale:', chi2)"
   ]
  },
  {
   "cell_type": "markdown",
   "metadata": {},
   "source": [
    "Utilizo el estadístico $\\chi^2$ para estudiar la hipótesis nula $H_0=$ \"La distribución observada es binomial\". Tomo nivel de significancia $95\\%\\: (1-\\alpha =0.95)$, a partir del cual rechazaré o aceptaré la hipótesis. Dado que el problema tiene $\\nu = n$ grados de libertad, estudio la tabla de valores críticos de chi cuadrado para distintos valores de $\\alpha$.\n",
    "![title](chi_table.png)\n",
    "\n",
    "Para el valor chi cuadrado obtenido la hipotesis es aceptada de acuerdo al nivel de significancia elegido.\n",
    "El *valor-p* para la distribución chi-cuadrado es $p = 1-Q(\\chi^2,\\nu)$ con $Q$ la acumulada de chi. El *valor-p* puede ser comparado con el valor de significancia $\\alpha$ y cuando $p\\leq \\alpha$ la  hipótesis nula será rechazada."
   ]
  },
  {
   "cell_type": "code",
   "execution_count": 5,
   "metadata": {},
   "outputs": [
    {
     "name": "stdout",
     "output_type": "stream",
     "text": [
      "El valor-p es:0.38965896952873424>0.05\n",
      " Luego la hipótesis no puede ser rechazada.\n"
     ]
    }
   ],
   "source": [
    "print(f'El valor-p es:{st.chisquare(fr_n*t,teo*t)[1]}>{0.05}\\n Luego la hipótesis no puede ser rechazada.')"
   ]
  },
  {
   "cell_type": "markdown",
   "metadata": {},
   "source": [
    "Vemos ahora que pasa cuando la simulación realizada no corresponde a la distribución teórica. Se hace la prueba con muestras de V.A. normales $\\mathcal{N}(\\mu=[2,7],\\sigma=2.5)$ para $t=100$ simulaciones y $t=10000$, con $\\mathcal{B}(n=10,p=0.4)$ y $\\mathcal{B}(n=1000,p=0.4)$ respectivamente."
   ]
  },
  {
   "cell_type": "code",
   "execution_count": 6,
   "metadata": {},
   "outputs": [
    {
     "name": "stdout",
     "output_type": "stream",
     "text": [
      "Los valores-p para mu=2,3,4,5,6,7 respectivamente son:\n",
      " [1.34708299e-043 8.15460414e-038 1.78755603e-044 2.80618897e-007\n",
      " 1.41039363e-290]\n"
     ]
    }
   ],
   "source": [
    "obs_n = np.zeros((n+1,5))\n",
    "p_val = np.zeros(5)\n",
    "for i in range(2,7):\n",
    "    nor = np.sort(np.random.normal(i,2.5,t)) \n",
    "    for j in range(n+1): #bineo mis datos en enteros para comparar con la binomial\n",
    "        obs_n[j,i-2] = np.where((nor>=j) & (nor<j+1))[0].shape[0]\n",
    "    p_val[i-2] = st.chisquare(obs_n[:,i-2],teo*t)[1]\n",
    "print('Los valores-p para mu=2,3,4,5,6,7 respectivamente son:\\n',p_val)"
   ]
  },
  {
   "cell_type": "markdown",
   "metadata": {},
   "source": [
    "Dado que los *valores-p* son muy pequeños en todos los casos para cualquier $\\alpha$ convencional $p\\leq \\alpha$, con lo que la hipótesis debe ser rechazada para todo $\\mu$. Repito ahora para el segundo escenario planteado."
   ]
  },
  {
   "cell_type": "code",
   "execution_count": 9,
   "metadata": {},
   "outputs": [
    {
     "name": "stdout",
     "output_type": "stream",
     "text": [
      "Los valores-p para mu=2,3,4,5,6,7 respectivamente son:\n",
      " [nan nan nan nan nan]\n"
     ]
    }
   ],
   "source": [
    "t2 = 10000\n",
    "n2 = 1000\n",
    "y2 = np.arange(n2+1)\n",
    "teo2 = st.binom.pmf(y2,n2,p)\n",
    "obs_n2 = np.zeros((n2+1,5))\n",
    "p_val2 = np.zeros(5)\n",
    "for k in range(2,7):\n",
    "    nor = np.sort(np.random.normal(k,2.5,t2)) \n",
    "    for l in range(n2+1): #bineo mis datos en enteros para comparar con la binomial\n",
    "        obs_n2[l,k-2] = np.where((nor>=l) & (nor<l+1))[0].shape[0]\n",
    "    p_val2[k-2] = st.chisquare(obs_n2[:,k-2],teo2*t2)[1]\n",
    "print('Los valores-p para mu=2,3,4,5,6,7 respectivamente son:\\n',p_val2)"
   ]
  },
  {
   "cell_type": "markdown",
   "metadata": {},
   "source": [
    "Las distribuciones son disjuntas, y el test de $\\chi^2$ falla cuando la frecuencia observada es muy baja, en general se pide 5 o más cuentas en al menos el $80\\%$ de las celdas. Se grafica un ejemplo abajo."
   ]
  },
  {
   "cell_type": "code",
   "execution_count": 10,
   "metadata": {},
   "outputs": [
    {
     "data": {
      "image/png": "[encoded data removed]",
      "text/plain": [
       "<Figure size 432x288 with 1 Axes>"
      ]
     },
     "metadata": {
      "needs_background": "light"
     },
     "output_type": "display_data"
    }
   ],
   "source": [
    "plt.bar(y2, obs_n2[:,-1]/t2, label='$N\\,(\\mu=7,\\sigma=2.5$')\n",
    "plt.bar(y2, teo2, label='Binomial')\n",
    "plt.xlabel('x')\n",
    "plt.ylabel('Frecuencia')\n",
    "plt.legend()\n",
    "plt.show()"
   ]
  }
 ],
 "metadata": {
  "kernelspec": {
   "display_name": "Python 3",
   "language": "python",
   "name": "python3"
  },
  "language_info": {
   "codemirror_mode": {
    "name": "ipython",
    "version": 3
   },
   "file_extension": ".py",
   "mimetype": "text/x-python",
   "name": "python",
   "nbconvert_exporter": "python",
   "pygments_lexer": "ipython3",
   "version": "3.7.6"
  }
 },
 "nbformat": 4,
 "nbformat_minor": 4
}
