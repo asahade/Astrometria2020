{
 "cells": [
  {
   "cell_type": "markdown",
   "metadata": {},
   "source": [
    "# Método de la transformada inversa: distribución de Poisson"
   ]
  },
  {
   "cell_type": "markdown",
   "metadata": {},
   "source": [
    "La distribución de Poisson sirve para modelar el número de ocurrencias de un cierto evento dentro de un intervalo de tiempo dado. Se define la variable aleatoria X como el número de ocurrencia de este evento en el intervalo de tiempo\n",
    "dado, que puede tomar los valores enteros 0, 1, 2, etcétera. Para definir la distribución de Poisson es necesario conocer el promedio de ocurrencia denotado por el parámetro $\\lambda$. La probabilidad de que la v.a. X tome el valor $x \\geq 0$, con $\\lambda>0$, esta dada por la función:\n",
    "\n",
    "\\begin{equation} \n",
    "P\\,(x=X)=\n",
    "\\left\\{\n",
    "\\begin{array}{rl}\n",
    "\\begin{alignedat}{2}\n",
    "&e^{-\\lambda}\\frac{\\lambda^{x}}{x!} && \\qquad \\text{si } x\\in \\left(\\mathbb{N}\\cup \\{0 \\}\\right)\\\\\n",
    "& 0  && \\qquad \\text{si } x \\notin  \\left(\\mathbb{N}\\cup\\{ 0 \\}\\right)\n",
    "\\end{alignedat}\n",
    "\\end{array} \\right.\n",
    "\\end{equation}\n",
    "\n",
    "Si se quiere observar las ocurrencias del evento en un intervalo de longitud diferente al considerado originalmente (es decir el intervalo para el cuál el promedio es $\\lambda$). Tal conteo de ocurrencias también sigue una distribución Poisson pero esta vez de parámetro $\\lambda t$, con $t=\\frac{intervalo\\:actual}{intervalo\\:original}$.\n",
    "\n",
    "Para simular la ocurrencia de eventos en un proceso de Poisson de tasa $\\lambda = 5/$h, hasta un tiempo $T=3$ h se utiliza el método de la función inversa, que consiste en encontrar la inversa de la función distribución acumulada (CDF, por sus siglas en inglés) para obtener números aleatorios que esten distribuidos según la CDF. Luego para la distribución de Poisson con $\\lambda = 15$, como pide el problema, la CDF es:\n",
    "\n",
    "$F_X(x)=P(X\\leq x) = \\sum^\\infty_{x=0}e^{-15}\\frac{15^{x}}{x!}$\n",
    "\n",
    "y la funcion inversa para funciones discretas equivale a asignarle al número pseudoaleatorio generado $u$ la variale aleatoria $x_i$ si cumple:\n",
    "\n",
    "$F_X(x_i-1)<u\\leq F_X(x_i)$"
   ]
  },
  {
   "cell_type": "code",
   "execution_count": 67,
   "metadata": {},
   "outputs": [],
   "source": [
    "import numpy as np\n",
    "import math as mt\n",
    "import matplotlib.pyplot as plt"
   ]
  },
  {
   "cell_type": "markdown",
   "metadata": {},
   "source": [
    "Ya que la media de la distribución de Poisson buscada es 15 y la varianza es 15 voy a simular los casos entre 0 y 30, y sabiendo que la posibilidad de que ocurran casos con x mayor es muy baja, el valor $x=31$ va a tener asignada la probabilidad de todos los $x>30$."
   ]
  },
  {
   "cell_type": "code",
   "execution_count": 89,
   "metadata": {},
   "outputs": [],
   "source": [
    "n = 10000 #tamaño de la muestra\n",
    "y = np.ones(n)*31\n",
    "u = np.random.random(n) \n",
    "a = np.zeros(31)\n",
    "b = mt.exp(-15)*np.ones(31)\n",
    "c = mt.exp(-15)*np.ones(31)\n",
    "\n",
    "for i in range(1,31):\n",
    "    a[i] = b[i-1]\n",
    "    b[i] = mt.exp(-15)*15**i/mt.factorial(i)+ b[i-1]\n",
    "    c[i] = mt.exp(-15)*15**i/mt.factorial(i)\n",
    "    for j in range(n):\n",
    "        if (a[i] < u[j]) & (u[j] <= b[i]): y[j]=i\n",
    "x,pdf = np.unique(y,return_counts=True)"
   ]
  },
  {
   "cell_type": "code",
   "execution_count": 93,
   "metadata": {},
   "outputs": [
    {
     "data": {
      "image/png": "[encoded data removed]",
      "text/plain": [
       "<Figure size 432x288 with 1 Axes>"
      ]
     },
     "metadata": {
      "needs_background": "light"
     },
     "output_type": "display_data"
    }
   ],
   "source": [
    "plt.bar(x,pdf/n,width=-0.4, align='edge', label='Dist. simulada')\n",
    "plt.bar(np.arange(31),c, color='brown',width=0.4, align='edge',label='Dist. teórica')\n",
    "\n",
    "plt.legend()\n",
    "plt.xlabel('x')\n",
    "plt.ylabel('$P\\,(x=X)$')\n",
    "plt.show()"
   ]
  },
  {
   "cell_type": "code",
   "execution_count": null,
   "metadata": {},
   "outputs": [],
   "source": []
  }
 ],
 "metadata": {
  "kernelspec": {
   "display_name": "Python 3",
   "language": "python",
   "name": "python3"
  },
  "language_info": {
   "codemirror_mode": {
    "name": "ipython",
    "version": 3
   },
   "file_extension": ".py",
   "mimetype": "text/x-python",
   "name": "python",
   "nbconvert_exporter": "python",
   "pygments_lexer": "ipython3",
   "version": "3.7.6"
  }
 },
 "nbformat": 4,
 "nbformat_minor": 4
}
