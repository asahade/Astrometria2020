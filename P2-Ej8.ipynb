{
 "cells": [
  {
   "cell_type": "markdown",
   "metadata": {},
   "source": [
    "# Experimento de Buffon"
   ]
  },
  {
   "cell_type": "markdown",
   "metadata": {},
   "source": [
    "Este experimento consiste en lanzar una aguja sobre la mesa, que cae en una ubicación aleatoria (uniforme) sobre la mesa, a una distancia $x$ de la raya más cercana (medida desde el centro de la aguja, con separación $t$ entre las rayas) y con una orientación también aleatoria $\\theta$ dada por el ángulo agudo que forma con la dirección de las rayas. La función de densidad de probabilidad para el parámetro $x$ será:\n",
    "\\begin{equation} \n",
    "P\\,(x=X)=\n",
    "\\left\\{\n",
    "\\begin{array}{rl}\n",
    "\\begin{alignedat}{2}\n",
    "&2/t && \\qquad \\text{si } 0\\leq x\\leq t/2 \\\\\n",
    "& 0  && \\qquad \\text{si } x \\notin  \\left[0,t/2\\right]\n",
    "\\end{alignedat}\n",
    "\\end{array} \\right.\n",
    "\\end{equation}\n",
    "Y la función de densidad de probabilidad para el parámetro $\\theta$ será:\n",
    "\\begin{equation} \n",
    "P\\,(\\theta=\\Theta)=\n",
    "\\left\\{\n",
    "\\begin{array}{rl}\n",
    "\\begin{alignedat}{2}\n",
    "&2/\\pi && \\qquad \\text{si } -\\pi/2 < \\theta\\leq \\pi/2 \\\\\n",
    "& 0  && \\qquad \\text{si } \\theta \\notin  \\left[0,\\pi/2\\right]\n",
    "\\end{alignedat}\n",
    "\\end{array} \\right.\n",
    "\\end{equation}\n",
    "\n",
    "Como ambas variables son independientes la función de densidad de probabilidad conjunta es el producto de ambas $P(x,\\theta)=P(x)P(\\theta)$. La condición de que la aguja toque una línea es $x\\leq\\frac{l}{2}sen(\\theta)$\n",
    "integrando la probabilidad conjunta con esta condición dada resulta que la probabilidad que una aguja toque alguna líneas es $\\int_{0}^{\\pi/2}\\int_{0}^{\\frac{l}{2}sen(\\theta)} \\frac{4}{t\\pi} \\,dx d\\theta=\\frac{2l}{t\\pi}$ "
   ]
  },
  {
   "cell_type": "code",
   "execution_count": 1,
   "metadata": {},
   "outputs": [],
   "source": [
    "import numpy as np\n",
    "import matplotlib.pyplot as plt"
   ]
  },
  {
   "cell_type": "markdown",
   "metadata": {},
   "source": [
    "Supongamos $t=2$ y $l=1$. En una simulación donde arrojamos agujas la probabilidad clásica $\\frac{\\#\\,toques}{\\# \\,tiradas}\\to 1/\\pi$"
   ]
  },
  {
   "cell_type": "code",
   "execution_count": 2,
   "metadata": {},
   "outputs": [
    {
     "name": "stdout",
     "output_type": "stream",
     "text": [
      "Pi por la probabilidad de que la aguja toque la linea: 0.9660397409788614\n"
     ]
    }
   ],
   "source": [
    "n = 10000\n",
    "x = np.random.uniform(0,1,n)\n",
    "th = np.random.uniform(0,np.pi/2,n) \n",
    "\n",
    "touch = np.where(x<=0.5*np.sin(th))[0]\n",
    "invpi= touch.shape[0]/n\n",
    "print(f'Pi por la probabilidad de que la aguja toque la linea: {np.pi*invpi}')"
   ]
  }
 ],
 "metadata": {
  "kernelspec": {
   "display_name": "Python 3",
   "language": "python",
   "name": "python3"
  },
  "language_info": {
   "codemirror_mode": {
    "name": "ipython",
    "version": 3
   },
   "file_extension": ".py",
   "mimetype": "text/x-python",
   "name": "python",
   "nbconvert_exporter": "python",
   "pygments_lexer": "ipython3",
   "version": "3.7.6"
  }
 },
 "nbformat": 4,
 "nbformat_minor": 4
}
